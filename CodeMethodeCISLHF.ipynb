{
  "nbformat": 4,
  "nbformat_minor": 0,
  "metadata": {
    "colab": {
      "private_outputs": true,
      "provenance": [],
      "toc_visible": true,
      "authorship_tag": "ABX9TyN+yx6h5nVHp/cY6dy4yheQ",
      "include_colab_link": true
    },
    "kernelspec": {
      "name": "python3",
      "display_name": "Python 3"
    },
    "language_info": {
      "name": "python"
    }
  },
  "cells": [
    {
      "cell_type": "markdown",
      "metadata": {
        "id": "view-in-github",
        "colab_type": "text"
      },
      "source": [
        "<a href=\"https://colab.research.google.com/github/EWOLO-JM/Master-M2-CIS/blob/main/CodeMethodeCISLHF.ipynb\" target=\"_parent\"><img src=\"https://colab.research.google.com/assets/colab-badge.svg\" alt=\"Open In Colab\"/></a>"
      ]
    },
    {
      "cell_type": "markdown",
      "source": [
        "**Dissimulation du message**"
      ],
      "metadata": {
        "id": "GEKS5Wx3Z2rH"
      }
    },
    {
      "cell_type": "code",
      "source": [
        "import cv2\n",
        "import numpy as np\n",
        "from google.colab import files\n",
        "import io\n",
        "\n",
        "def cover_image_preparation(cover_picture, m, n):\n",
        "    cover_segments = []\n",
        "    for i in range(0, cover_picture.shape[0], m):\n",
        "        for j in range(0, cover_picture.shape[1], n):\n",
        "            segment = cover_picture[i:i+m, j:j+n]\n",
        "            lowest_value = np.min(segment)\n",
        "            highest_value = np.max(segment)\n",
        "            cover_segments.append((lowest_value, highest_value))\n",
        "    return cover_segments\n",
        "\n",
        "\n",
        "def normalize_image(image, target_size=(512, 512)):\n",
        "    return cv2.resize(image, target_size, interpolation=cv2.INTER_AREA)\n",
        "\n",
        "def secret_data_preparation(secret_data, num_segments):\n",
        "    binary_secret_data = ''.join(format(ord(char), '07b') for char in secret_data)\n",
        "    # Ajouter des zéros à la fin pour atteindre la longueur requise\n",
        "    while len(binary_secret_data) < num_segments * 2:  # Multiplié par 2 pour prendre en compte les deux bits par segment\n",
        "        binary_secret_data += '0'\n",
        "    return binary_secret_data\n",
        "\n",
        "\n",
        "\n",
        "def mapping(cover_segments, binary_secret_data, mapping_key):\n",
        "    mapping_flags = []\n",
        "    for i, (lowest, highest) in enumerate(cover_segments):\n",
        "        mapped_bit = int(not (int(binary_secret_data[i]) ^ ((highest & 128) >> 7)))\n",
        "        mapping_flags.append(mapped_bit)\n",
        "    return mapping_flags\n",
        "\n",
        "def embed_message(cover_image, secret_data, m, n, mapping_key):\n",
        "    cover_segments = cover_image_preparation(cover_image, m, n)\n",
        "\n",
        "    # Ajouter le nombre total de segments comme argument pour la préparation des données secrètes\n",
        "    binary_secret_data = secret_data_preparation(secret_data, len(cover_segments))\n",
        "\n",
        "    mapping_flags = mapping(cover_segments, binary_secret_data, mapping_key)\n",
        "\n",
        "    stego_image = np.copy(cover_image)\n",
        "\n",
        "    for i, (lowest, highest) in enumerate(cover_segments):\n",
        "        stego_image[i // (cover_image.shape[1] // n), i % (cover_image.shape[1] // n)] = (stego_image[i // (cover_image.shape[1] // n), i % (cover_image.shape[1] // n)] & ~1) | mapping_flags[i]\n",
        "\n",
        "    return stego_image\n",
        "\n",
        "# Charger l'image de couverture depuis l'ordinateur local\n",
        "uploaded = files.upload()\n",
        "cover_image_path = list(uploaded.keys())[0]\n",
        "cover_image_data = uploaded[cover_image_path]\n",
        "cover_image = cv2.imdecode(np.frombuffer(cover_image_data, np.uint8), cv2.IMREAD_GRAYSCALE)\n",
        "\n",
        "# Vérifier si la lecture de l'image a réussi\n",
        "if cover_image is None:\n",
        "    print(\"Erreur: Impossible de lire l'image de couverture.\")\n",
        "else:\n",
        "    # Données secrètes à dissimuler\n",
        "    secret_data = \"Hello, Mr EWOLO !\"\n",
        "\n",
        "    # Paramètres pour la méthode CIHLHF\n",
        "    m = 4\n",
        "    n = 4\n",
        "    mapping_key = [7, 8, 1, 2, 3, 4, 6, 5]\n",
        "\n",
        "    # Dissimuler le message dans l'image de couverture\n",
        "    stego_image = embed_message(cover_image, secret_data, m, n, mapping_key)\n",
        "\n",
        "    # Enregistrer l'image stéganographique\n",
        "    cv2.imwrite(\"/content/stego_image1.jpg\", stego_image)\n"
      ],
      "metadata": {
        "id": "JXgkJd7dWwyh"
      },
      "execution_count": null,
      "outputs": []
    },
    {
      "cell_type": "code",
      "source": [
        "import cv2\n",
        "import numpy as np\n",
        "from google.colab import files\n",
        "import io\n",
        "\n",
        "def normalize_image(image, target_size=(512, 512)):\n",
        "    return cv2.resize(image, target_size, interpolation=cv2.INTER_AREA)\n",
        "\n",
        "def cover_image_preparation(cover_picture, m, n):\n",
        "    cover_segments = []\n",
        "    for i in range(0, cover_picture.shape[0], m):\n",
        "        for j in range(0, cover_picture.shape[1], n):\n",
        "            segment = cover_picture[i:i+m, j:j+n]\n",
        "            lowest_value = np.min(segment)\n",
        "            highest_value = np.max(segment)\n",
        "            cover_segments.append((lowest_value, highest_value))\n",
        "    return cover_segments\n",
        "\n",
        "def secret_data_preparation(secret_data, num_segments):\n",
        "    binary_secret_data = ''.join(format(ord(char), '07b') for char in secret_data)\n",
        "    # Ajouter des zéros à la fin pour atteindre la longueur requise\n",
        "    while len(binary_secret_data) < num_segments * 2:  # Multiplié par 2 pour prendre en compte les deux bits par segment\n",
        "        binary_secret_data += '0'\n",
        "    return binary_secret_data\n",
        "\n",
        "def mapping(cover_segments, binary_secret_data, mapping_key):\n",
        "    mapping_flags = []\n",
        "    for i, (lowest, highest) in enumerate(cover_segments):\n",
        "        mapped_bit = int(not (int(binary_secret_data[i]) ^ ((highest & 128) >> 7)))\n",
        "        mapping_flags.append(mapped_bit)\n",
        "    return mapping_flags\n",
        "\n",
        "def embed_message(cover_image, secret_data, m, n, mapping_key):\n",
        "    # Normaliser l'image à la taille spécifiée (512x512)\n",
        "    normalized_cover_image = normalize_image(cover_image)\n",
        "    cover_segments = cover_image_preparation(normalized_cover_image, m, n)\n",
        "\n",
        "    # Ajouter le nombre total de segments comme argument pour la préparation des données secrètes\n",
        "    binary_secret_data = secret_data_preparation(secret_data, len(cover_segments))\n",
        "\n",
        "    mapping_flags = mapping(cover_segments, binary_secret_data, mapping_key)\n",
        "\n",
        "    stego_image = np.copy(normalized_cover_image)\n",
        "\n",
        "    for i, (lowest, highest) in enumerate(cover_segments):\n",
        "        row = i // (normalized_cover_image.shape[1] // n)\n",
        "        col = i % (normalized_cover_image.shape[1] // n)\n",
        "        stego_image[row * m:(row + 1) * m, col * n:(col + 1) * n] = (stego_image[row * m:(row + 1) * m, col * n:(col + 1) * n] & ~1) | mapping_flags[i]\n",
        "\n",
        "    return stego_image\n",
        "\n",
        "# Charger l'image de couverture depuis l'ordinateur local\n",
        "uploaded = files.upload()\n",
        "cover_image_path = list(uploaded.keys())[0]\n",
        "cover_image_data = uploaded[cover_image_path]\n",
        "cover_image = cv2.imdecode(np.frombuffer(cover_image_data, np.uint8), cv2.IMREAD_GRAYSCALE)\n",
        "\n",
        "# Vérifier si la lecture de l'image a réussi\n",
        "if cover_image is None:\n",
        "    print(\"Erreur: Impossible de lire l'image de couverture.\")\n",
        "else:\n",
        "    # Données secrètes à dissimuler\n",
        "    secret_data = \"Hello, Mr EWOLO !\"\n",
        "\n",
        "    # Paramètres pour la méthode CIHLHF\n",
        "    m = 4\n",
        "    n = 4\n",
        "    mapping_key = [7, 8, 1, 2, 3, 4, 6, 5]\n",
        "\n",
        "    # Dissimuler le message dans l'image de couverture\n",
        "    stego_image = embed_message(cover_image, secret_data, m, n, mapping_key)\n",
        "\n",
        "    # Enregistrer l'image stéganographique\n",
        "    cv2.imwrite(\"/content/stego_image_normalized.jpg\", stego_image)\n"
      ],
      "metadata": {
        "id": "vLOOd6Ohvmss"
      },
      "execution_count": null,
      "outputs": []
    },
    {
      "cell_type": "markdown",
      "source": [
        "Afficher l'image Stégo"
      ],
      "metadata": {
        "id": "5f7YtsvsYEBF"
      }
    },
    {
      "cell_type": "code",
      "source": [
        "import cv2\n",
        "from matplotlib import pyplot as plt\n",
        "\n",
        "# Charger l'image stéganographique\n",
        "stego_image_path = \"/content/stego_image_normalized.jpg\"\n",
        "stego_image = cv2.imread(stego_image_path, cv2.IMREAD_GRAYSCALE)\n",
        "\n",
        "# Vérifier si la lecture de l'image a réussi\n",
        "if stego_image is None:\n",
        "    print(\"Erreur: Impossible de lire l'image stéganographique.\")\n",
        "else:\n",
        "    # Afficher l'image stéganographique\n",
        "    plt.imshow(stego_image, cmap='gray')\n",
        "    plt.title('Image stéganographique')\n",
        "    plt.axis('off')\n",
        "    plt.show()\n"
      ],
      "metadata": {
        "id": "_VK2vq9qYCtH"
      },
      "execution_count": null,
      "outputs": []
    },
    {
      "cell_type": "markdown",
      "source": [
        "Afficher les dimmenssions de l'image stégo"
      ],
      "metadata": {
        "id": "qSYB3YC1d_dX"
      }
    },
    {
      "cell_type": "code",
      "source": [
        "print(\"Dimensions de l'image stéganographique:\", stego_image.shape)"
      ],
      "metadata": {
        "id": "FhVuDOcteESm"
      },
      "execution_count": null,
      "outputs": []
    },
    {
      "cell_type": "markdown",
      "source": [
        "**Extracction du message**"
      ],
      "metadata": {
        "id": "9RhNwsxNZcGB"
      }
    },
    {
      "cell_type": "code",
      "source": [
        "# Code d'extraction du message secret"
      ],
      "metadata": {
        "id": "a64S-M5Bhaxb"
      },
      "execution_count": null,
      "outputs": []
    },
    {
      "cell_type": "code",
      "source": [
        "import cv2\n",
        "import numpy as np\n",
        "from google.colab import files\n",
        "\n",
        "def normalize_image(image, target_size=(512, 512)):\n",
        "    return cv2.resize(image, target_size, interpolation=cv2.INTER_AREA)\n",
        "\n",
        "def cover_image_preparation(cover_picture, m, n):\n",
        "    cover_segments = []\n",
        "    for i in range(0, cover_picture.shape[0], m):\n",
        "        for j in range(0, cover_picture.shape[1], n):\n",
        "            segment = cover_picture[i:i+m, j:j+n]\n",
        "            lowest_value = np.min(segment)\n",
        "            highest_value = np.max(segment)\n",
        "            cover_segments.append((lowest_value, highest_value))\n",
        "    return cover_segments\n",
        "\n",
        "def extract_message(stego_image, m, n, mapping_key):\n",
        "    stego_segments = cover_image_preparation(stego_image, m, n)\n",
        "\n",
        "    # Vérifier si les dimensions correspondent\n",
        "    if len(stego_segments) != stego_image.size:\n",
        "        print(\"Erreur: Les dimensions de l'image stéganographique ne correspondent pas.\")\n",
        "        return None\n",
        "\n",
        "    extracted_binary_data = \"\"\n",
        "    for i, (lowest, highest) in enumerate(stego_segments):\n",
        "        extracted_bit = (stego_image[i // m, i % n] & 1) ^ ((highest & 128) >> 7)\n",
        "        extracted_binary_data += str(extracted_bit)\n",
        "\n",
        "    # Convertir les données binaires extraites en ASCII\n",
        "    extracted_message = \"\"\n",
        "    for i in range(0, len(extracted_binary_data), 7):\n",
        "        ascii_code = int(extracted_binary_data[i:i+7], 2)\n",
        "        extracted_message += chr(ascii_code)\n",
        "\n",
        "    return extracted_message\n",
        "\n",
        "# Charger l'image stéganographique depuis l'ordinateur local\n",
        "uploaded = files.upload()\n",
        "stego_image_path = list(uploaded.keys())[0]\n",
        "stego_image_data = uploaded[stego_image_path]\n",
        "stego_image = cv2.imdecode(np.frombuffer(stego_image_data, np.uint8), cv2.IMREAD_GRAYSCALE)\n",
        "\n",
        "# Vérifier si la lecture de l'image stéganographique a réussi\n",
        "if stego_image is None:\n",
        "    print(\"Erreur: Impossible de lire l'image stéganographique.\")\n",
        "else:\n",
        "    # Paramètres pour la méthode CIHLHF\n",
        "    m = 4\n",
        "    n = 4\n",
        "    mapping_key = [7, 8, 1, 2, 3, 4, 6, 5]\n",
        "\n",
        "    # Extraire le message secret de l'image stéganographique\n",
        "    extracted_message = extract_message(stego_image, m, n, mapping_key)\n",
        "\n",
        "    if extracted_message is not None:\n",
        "        # Afficher le message extrait\n",
        "        print(\"Message secret extrait:\", extracted_message)\n",
        "    else:\n",
        "        print(\"Extraction du message échouée.\")\n"
      ],
      "metadata": {
        "id": "Z5WvL8zpaRDq"
      },
      "execution_count": null,
      "outputs": []
    },
    {
      "cell_type": "markdown",
      "source": [
        "Importer un fichier"
      ],
      "metadata": {
        "id": "mF4XM8EtZ25O"
      }
    },
    {
      "cell_type": "code",
      "source": [
        "from google.colab import files\n",
        "file = files.upload()"
      ],
      "metadata": {
        "id": "fmWy_kXXZ80Q"
      },
      "execution_count": null,
      "outputs": []
    }
  ]
}