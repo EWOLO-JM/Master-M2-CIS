{
  "nbformat": 4,
  "nbformat_minor": 0,
  "metadata": {
    "colab": {
      "private_outputs": true,
      "provenance": [],
      "toc_visible": true,
      "mount_file_id": "1Lzu20Ky7hMI4geLQbHCi9qkjb7Nj7Cqj",
      "authorship_tag": "ABX9TyMkwi000WEkat/o2RKXk6FM",
      "include_colab_link": true
    },
    "kernelspec": {
      "name": "python3",
      "display_name": "Python 3"
    },
    "language_info": {
      "name": "python"
    }
  },
  "cells": [
    {
      "cell_type": "markdown",
      "metadata": {
        "id": "view-in-github",
        "colab_type": "text"
      },
      "source": [
        "<a href=\"https://colab.research.google.com/github/EWOLO-JM/Master-M2-CIS/blob/main/CodeMethodeCISLHF.ipynb\" target=\"_parent\"><img src=\"https://colab.research.google.com/assets/colab-badge.svg\" alt=\"Open In Colab\"/></a>"
      ]
    },
    {
      "cell_type": "markdown",
      "source": [
        "# **Dissimulation du message**"
      ],
      "metadata": {
        "id": "GEKS5Wx3Z2rH"
      }
    },
    {
      "cell_type": "code",
      "source": [
        "import cv2\n",
        "import numpy as np\n",
        "from google.colab import files\n",
        "import io\n",
        "\n",
        "def normalize_image(image, target_size=(512, 512)):\n",
        "    return cv2.resize(image, target_size, interpolation=cv2.INTER_AREA)\n",
        "\n",
        "def cover_image_preparation(cover_picture, m, n):\n",
        "    cover_segments = []\n",
        "    for i in range(0, cover_picture.shape[0], m):\n",
        "        for j in range(0, cover_picture.shape[1], n):\n",
        "            segment = cover_picture[i:i+m, j:j+n]\n",
        "            lowest_value = np.min(segment)\n",
        "            highest_value = np.max(segment)\n",
        "            cover_segments.append((lowest_value, highest_value))\n",
        "    return cover_segments\n",
        "\n",
        "def secret_data_preparation(secret_data, num_segments):\n",
        "    binary_secret_data = ''.join(format(ord(char), '07b') for char in secret_data)\n",
        "    # Ajouter des zéros à la fin pour atteindre la longueur requise\n",
        "    while len(binary_secret_data) < num_segments * 2:  # Multiplié par 2 pour prendre en compte les deux bits par segment\n",
        "        binary_secret_data += '0'\n",
        "    return binary_secret_data\n",
        "\n",
        "def mapping(cover_segments, binary_secret_data, mapping_key):\n",
        "    mapping_flags = []\n",
        "    for i, (lowest, highest) in enumerate(cover_segments):\n",
        "        mapped_bit = int(not (int(binary_secret_data[i]) ^ ((highest & 128) >> 7)))\n",
        "        mapping_flags.append(mapped_bit)\n",
        "    return mapping_flags\n",
        "\n",
        "def embed_message(cover_image, secret_data, m, n, mapping_key):\n",
        "    # Normaliser l'image à la taille spécifiée (512x512)\n",
        "    normalized_cover_image = normalize_image(cover_image)\n",
        "    cover_segments = cover_image_preparation(normalized_cover_image, m, n)\n",
        "\n",
        "    # Ajouter le nombre total de segments comme argument pour la préparation des données secrètes\n",
        "    binary_secret_data = secret_data_preparation(secret_data, len(cover_segments))\n",
        "\n",
        "    mapping_flags = mapping(cover_segments, binary_secret_data, mapping_key)\n",
        "\n",
        "    stego_image = np.copy(normalized_cover_image)\n",
        "\n",
        "    for i, (lowest, highest) in enumerate(cover_segments):\n",
        "        row = i // (normalized_cover_image.shape[1] // n)\n",
        "        col = i % (normalized_cover_image.shape[1] // n)\n",
        "        stego_image[row * m:(row + 1) * m, col * n:(col + 1) * n] = (stego_image[row * m:(row + 1) * m, col * n:(col + 1) * n] & ~1) | mapping_flags[i]\n",
        "\n",
        "    return stego_image\n",
        "\n",
        "# Charger l'image de couverture depuis l'ordinateur local\n",
        "uploaded = files.upload()\n",
        "cover_image_path = list(uploaded.keys())[0]\n",
        "cover_image_data = uploaded[cover_image_path]\n",
        "cover_image = cv2.imdecode(np.frombuffer(cover_image_data, np.uint8), cv2.IMREAD_GRAYSCALE)\n",
        "\n",
        "# Vérifier si la lecture de l'image a réussi\n",
        "if cover_image is None:\n",
        "    print(\"Erreur: Impossible de lire l'image de couverture.\")\n",
        "else:\n",
        "    # Données secrètes à dissimuler\n",
        "    secret_data = \"Hello Mr EWOLO \"\n",
        "\n",
        "    # Paramètres pour la méthode CIHLHF\n",
        "    m = 4\n",
        "    n = 4\n",
        "    mapping_key = [7, 8, 1, 2, 3, 4, 6, 5]\n",
        "\n",
        "    # Dissimuler le message dans l'image de couverture\n",
        "    stego_image = embed_message(cover_image, secret_data, m, n, mapping_key)\n",
        "\n",
        "    # Enregistrer l'image stéganographique avec un nom différent à chaque itération\n",
        "    for i in range(1, 2):  # Changer la plage selon le nombre d'itérations souhaité\n",
        "        stego_image_path = f\"/content/stego_image_normalized_{i}.jpg\"\n",
        "        cv2.imwrite(stego_image_path, stego_image)\n",
        "        print(f\"Image stéganographique enregistrée : {stego_image_path}\")\n"
      ],
      "metadata": {
        "id": "46Z1sQCNEMLR"
      },
      "execution_count": null,
      "outputs": []
    },
    {
      "cell_type": "markdown",
      "source": [
        "***Affichage de l'image stégo***"
      ],
      "metadata": {
        "id": "uvni5WOHLlFo"
      }
    },
    {
      "cell_type": "code",
      "source": [
        "import cv2\n",
        "from matplotlib import pyplot as plt\n",
        "\n",
        "# Charger l'image stéganographique\n",
        "stego_image_path = \"/content/stego_image_normalized_1.jpg\"\n",
        "stego_image = cv2.imread(stego_image_path, cv2.IMREAD_GRAYSCALE)\n",
        "\n",
        "# Vérifier si la lecture de l'image a réussi\n",
        "if stego_image is None:\n",
        "    print(\"Erreur: Impossible de lire l'image stéganographique.\")\n",
        "else:\n",
        "    # Afficher l'image stéganographique\n",
        "    plt.imshow(stego_image, cmap='gray')\n",
        "    plt.title('Image stéganographique')\n",
        "    plt.axis('off')\n",
        "    plt.show()\n"
      ],
      "metadata": {
        "id": "vIX3GEDDLTtj"
      },
      "execution_count": null,
      "outputs": []
    },
    {
      "cell_type": "markdown",
      "source": [
        "***Afficher les dimmenssions de l'image stégo***"
      ],
      "metadata": {
        "id": "qSYB3YC1d_dX"
      }
    },
    {
      "cell_type": "code",
      "source": [
        "print(\"Dimensions de l'image stéganographique:\", stego_image.shape)"
      ],
      "metadata": {
        "id": "FhVuDOcteESm"
      },
      "execution_count": null,
      "outputs": []
    },
    {
      "cell_type": "markdown",
      "source": [
        "# **Extraction du message secret**"
      ],
      "metadata": {
        "id": "OHgteEOxHQUZ"
      }
    },
    {
      "cell_type": "code",
      "source": [
        "import cv2\n",
        "import numpy as np\n",
        "from google.colab import files\n",
        "\n",
        "def is_image_normalized(image, target_size=(512, 512)):\n",
        "    return image.shape[:2] == target_size\n",
        "\n",
        "def cover_image_preparation(cover_picture, m, n):\n",
        "    cover_segments = []\n",
        "    for i in range(0, cover_picture.shape[0], m):\n",
        "        for j in range(0, cover_picture.shape[1], n):\n",
        "            segment = cover_picture[i:i+m, j:j+n]\n",
        "            lowest_value = np.min(segment)\n",
        "            highest_value = np.max(segment)\n",
        "            cover_segments.append((lowest_value, highest_value))\n",
        "    return cover_segments\n",
        "\n",
        "def extract_message(stego_image, m, n, mapping_key):\n",
        "    # Vérifier si l'image stéganographique est normalisée en 512x512\n",
        "    if not is_image_normalized(stego_image):\n",
        "        print(\"Erreur: L'image stéganographique n'est pas normalisée en 512x512.\")\n",
        "        return None\n",
        "\n",
        "    # Utiliser la fonction cover_image_preparation sur l'image stéganographique\n",
        "    stego_segments = cover_image_preparation(stego_image, m, n)\n",
        "\n",
        "    extracted_binary_data = \"\"\n",
        "    for i, (lowest, highest) in enumerate(stego_segments):\n",
        "        row = i // (stego_image.shape[1] // n)\n",
        "        col = i % (stego_image.shape[1] // n)\n",
        "\n",
        "        # Extraire le bit du bit de poids faible de l'image stéganographique\n",
        "        extracted_bit = (stego_image[row * m:(row + 1) * m, col * n:(col + 1) * n] & 1)[0, 0]\n",
        "\n",
        "        # Appliquer le XOR avec le bit du bit de poids fort du segment\n",
        "        extracted_bit ^= ((highest & 128) >> 7)\n",
        "\n",
        "        extracted_binary_data += str(extracted_bit)\n",
        "\n",
        "    # Convertir les données binaires extraites en une chaîne Unicode avec gestion des erreurs\n",
        "    try:\n",
        "        unicode_data = bytes(int(extracted_binary_data[i:i+8], 2) for i in range(0, len(extracted_binary_data), 8)).decode(\"utf-8\", errors=\"ignore\")\n",
        "        return unicode_data\n",
        "    except ValueError as e:\n",
        "        print(f\"Erreur de conversion vers UTF-8 : {e}\")\n",
        "        return None\n",
        "\n",
        "# Charger l'image stéganographique depuis l'ordinateur local\n",
        "uploaded = files.upload()\n",
        "stego_image_path = list(uploaded.keys())[0]\n",
        "stego_image_data = uploaded[stego_image_path]\n",
        "stego_image = cv2.imdecode(np.frombuffer(stego_image_data, np.uint8), cv2.IMREAD_GRAYSCALE)\n",
        "\n",
        "# Vérifier si la lecture de l'image stéganographique a réussi\n",
        "if stego_image is None:\n",
        "    print(\"Erreur: Impossible de lire l'image stéganographique.\")\n",
        "else:\n",
        "    # Paramètres pour la méthode CIHLHF\n",
        "    m = 4\n",
        "    n = 4\n",
        "    mapping_key = [7, 8, 1, 2, 3, 4, 6, 5]\n",
        "\n",
        "    # Extraire le message secret de l'image stéganographique\n",
        "    extracted_message = extract_message(stego_image, m, n, mapping_key)\n",
        "\n",
        "    if extracted_message is not None:\n",
        "        # Afficher le message extrait\n",
        "        print(\"Message secret extrait:\", extracted_message)\n",
        "    else:\n",
        "        print(\"Extraction du message échouée.\")\n"
      ],
      "metadata": {
        "id": "XkU9KDNrnDDv"
      },
      "execution_count": null,
      "outputs": []
    },
    {
      "cell_type": "code",
      "source": [
        "import cv2\n",
        "from matplotlib import pyplot as plt\n",
        "\n",
        "# Charger l'image stéganographique\n",
        "stego_image_path = \"/content/stego_image_normalized_11.jpg\"\n",
        "stego_image = cv2.imread(stego_image_path, cv2.IMREAD_GRAYSCALE)\n",
        "\n",
        "# Vérifier si la lecture de l'image a réussi\n",
        "if stego_image is None:\n",
        "    print(\"Erreur: Impossible de lire l'image stéganographique.\")\n",
        "else:\n",
        "    # Afficher l'image stéganographique\n",
        "    plt.imshow(stego_image, cmap='gray')\n",
        "    plt.title('Image stéganographique')\n",
        "    plt.axis('off')\n",
        "    plt.show()\n"
      ],
      "metadata": {
        "id": "kE9sctNROhrX"
      },
      "execution_count": null,
      "outputs": []
    },
    {
      "cell_type": "markdown",
      "source": [
        "***Affichage les dimenssions du méssage secret***"
      ],
      "metadata": {
        "id": "QPQ7mc88MA6g"
      }
    },
    {
      "cell_type": "code",
      "source": [
        "print(\"Dimensions de l'image stéganographique:\", stego_image.shape)"
      ],
      "metadata": {
        "id": "YjJfdBpcH3fD"
      },
      "execution_count": null,
      "outputs": []
    },
    {
      "cell_type": "markdown",
      "source": [
        "Importer un fichier"
      ],
      "metadata": {
        "id": "mF4XM8EtZ25O"
      }
    },
    {
      "cell_type": "code",
      "source": [
        "from google.colab import files\n",
        "file = files.upload()"
      ],
      "metadata": {
        "id": "fmWy_kXXZ80Q"
      },
      "execution_count": null,
      "outputs": []
    },
    {
      "cell_type": "markdown",
      "source": [
        "# **Métriques d'évaluation**"
      ],
      "metadata": {
        "id": "kj2wR2GLTjnR"
      }
    },
    {
      "cell_type": "markdown",
      "source": [
        "**1. Distorsion Visuelle (MSE et PSNR)**"
      ],
      "metadata": {
        "id": "bExJARDkzjWo"
      }
    },
    {
      "cell_type": "markdown",
      "source": [
        "Calculez la MSE entre l'image originale et l'image stéganographique.\n",
        "Calculez le PSNR en utilisant la formule PSNR = 10 * log10(max^2 / MSE), où max est la valeur maximale possible pour un pixel."
      ],
      "metadata": {
        "id": "bF5DL_6Hz2Bs"
      }
    },
    {
      "cell_type": "code",
      "source": [
        "import cv2\n",
        "import numpy as np\n",
        "\n",
        "# Chargez l'image originale et l'image stéganographique\n",
        "original_image = cv2.imread(\"original_image.jpg\", cv2.IMREAD_GRAYSCALE)\n",
        "stego_image = cv2.imread(\"stego_image.jpg\", cv2.IMREAD_GRAYSCALE)\n",
        "\n",
        "# Calculez la MSE\n",
        "mse = np.sum((original_image - stego_image)**2) / float(original_image.size)\n",
        "\n",
        "# Calculez le PSNR\n",
        "max_pixel_value = 255  # Pour une image en niveaux de gris\n",
        "psnr = 10 * np.log10((max_pixel_value**2) / mse)\n",
        "\n",
        "print(f\"MSE: {mse}, PSNR: {psnr}\")\n"
      ],
      "metadata": {
        "id": "2jgdQ1l6zrrn"
      },
      "execution_count": null,
      "outputs": []
    },
    {
      "cell_type": "markdown",
      "source": [
        "**2. Capacité de Charge :**\n"
      ],
      "metadata": {
        "id": "RRuTEPHkz-AV"
      }
    },
    {
      "cell_type": "markdown",
      "source": [
        "\n",
        "Calculez la capacité de charge en bits par pixel (bpp) ou en pourcentage de la capacité totale de l'image."
      ],
      "metadata": {
        "id": "ez6g7HhW0Cpk"
      }
    },
    {
      "cell_type": "code",
      "source": [
        "# Calcul de la capacité de charge en bpp\n",
        "capacity_bpp = (original_image.size * 2) / float(original_image.size)\n",
        "\n",
        "# Calcul de la capacité de charge en pourcentage\n",
        "capacity_percentage = (capacity_bpp / (original_image.size * 8)) * 100\n",
        "\n",
        "print(f\"Capacité de charge (bpp): {capacity_bpp}, Capacité de charge (%): {capacity_percentage}%\")\n"
      ],
      "metadata": {
        "id": "hwFOBTqd0HgU"
      },
      "execution_count": null,
      "outputs": []
    },
    {
      "cell_type": "markdown",
      "source": [
        "**3. Robustesse :**"
      ],
      "metadata": {
        "id": "DhGxRxVH0M30"
      }
    },
    {
      "cell_type": "markdown",
      "source": [
        "\n",
        "Appliquez des attaques à l'image stéganographique et évaluez la distorsion visuelle."
      ],
      "metadata": {
        "id": "lMiXHiOi0Sn7"
      }
    },
    {
      "cell_type": "code",
      "source": [
        "# Appliquez une attaque (par exemple, filtrage)\n",
        "filtered_stego_image = cv2.GaussianBlur(stego_image, (5, 5), 0)\n",
        "\n",
        "# Calculez la MSE et le PSNR après l'attaque\n",
        "mse_filtered = np.sum((original_image - filtered_stego_image)**2) / float(original_image.size)\n",
        "psnr_filtered = 10 * np.log10((max_pixel_value**2) / mse_filtered)\n",
        "\n",
        "print(f\"MSE après filtrage: {mse_filtered}, PSNR après filtrage: {psnr_filtered}\")\n"
      ],
      "metadata": {
        "id": "nITsUPcY0Tn9"
      },
      "execution_count": null,
      "outputs": []
    },
    {
      "cell_type": "markdown",
      "source": [
        "# **Résultats Expérimentaux et Comparaison**"
      ],
      "metadata": {
        "id": "e0-zvk2_1EGn"
      }
    },
    {
      "cell_type": "markdown",
      "source": [
        "**Capacité de dissimulation**"
      ],
      "metadata": {
        "id": "9tP-61EnKCVO"
      }
    },
    {
      "cell_type": "code",
      "source": [
        "import matplotlib.pyplot as plt\n",
        "\n",
        "# Données\n",
        "methodes = ['CISFSA', 'CISMSB', 'CISLHF']\n",
        "valeurs = [6272, 16384, 49152]\n",
        "\n",
        "# Couleurs pour chaque bande\n",
        "couleurs = ['blue', 'orange', 'purple']\n",
        "\n",
        "# Création de l'histogramme\n",
        "plt.bar(methodes, valeurs, color=couleurs)\n",
        "\n",
        "# Titres et labels\n",
        "plt.title('Comparaison des Méthodes de Dissimulation sans Couverture')\n",
        "plt.xlabel('Méthodes')\n",
        "plt.ylabel('Capacité de dissimulation')\n",
        "\n",
        "# Limite de l'axe des ordonnées\n",
        "plt.ylim(0, 60000)\n",
        "\n",
        "# Affichage de l'histogramme\n",
        "plt.show()\n"
      ],
      "metadata": {
        "id": "tl2gnjsOIYNk"
      },
      "execution_count": null,
      "outputs": []
    },
    {
      "cell_type": "markdown",
      "source": [],
      "metadata": {
        "id": "3t4E88rqE_OT"
      }
    }
  ]
}